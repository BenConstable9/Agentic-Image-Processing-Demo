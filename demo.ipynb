{
 "cells": [
  {
   "cell_type": "code",
   "execution_count": 1,
   "metadata": {},
   "outputs": [
    {
     "data": {
      "text/plain": [
       "True"
      ]
     },
     "execution_count": 1,
     "metadata": {},
     "output_type": "execute_result"
    }
   ],
   "source": [
    "from rat import RAT_GROUP_CHAT\n",
    "from rag import RAG_GROUP_CHAT\n",
    "from autogen_agentchat.base import TaskResult\n",
    "from autogen_agentchat.messages import ToolCallRequestEvent, TextMessage, ToolCallExecutionEvent\n",
    "from dotenv import load_dotenv, find_dotenv\n",
    "from IPython.display import display_markdown\n",
    "\n",
    "load_dotenv(find_dotenv())"
   ]
  },
  {
   "cell_type": "code",
   "execution_count": 2,
   "metadata": {},
   "outputs": [],
   "source": [
    "USER_QUESTION = \"How is Shein innovating?\""
   ]
  },
  {
   "cell_type": "code",
   "execution_count": 3,
   "metadata": {},
   "outputs": [
    {
     "name": "stdout",
     "output_type": "stream",
     "text": [
      "Transitioning To:  research_agent\n",
      "Intermediate Response: How is Shein innovating?\n"
     ]
    },
    {
     "name": "stderr",
     "output_type": "stream",
     "text": [
      "c:\\Users\\benconstable\\OneDrive - Microsoft\\Documents\\open_source\\rat\\.venv\\Lib\\site-packages\\autogen_agentchat\\agents\\_assistant_agent.py:386: UserWarning: Resolved model mismatch: gpt-4o-2024-08-06 != gpt-4o-2024-05-13. Model mapping in autogen_ext.models.openai may be incorrect.\n",
      "  model_result = await self._model_client.create(\n"
     ]
    },
    {
     "name": "stdout",
     "output_type": "stream",
     "text": [
      "Search Request: [FunctionCall(id='call_sqcxYe4ztaW9iOFCoyvTt1Mt', arguments='{\"query\": \"Shein innovation\"}', name='single_term_search_index'), FunctionCall(id='call_jZo2pYX4BAFqgSNxR0vcGbZs', arguments='{\"query\": \"Shein technology advancements\"}', name='single_term_search_index'), FunctionCall(id='call_s0KSpM3DYqecewDiYf0qN3yx', arguments='{\"query\": \"Shein new initiatives\"}', name='single_term_search_index')]\n",
      "Search Results: [FunctionExecutionResult(content='dict_values([{\\'Chunks\\': [\"SHEIN\\\\n\\\\n\\\\n## INTRODUCTION PEOPLE PLANET\\\\n\\\\nPROCESS: WASTE-LESS\\\\nINNOVATION\\\\n\\\\nOptimize Resource Efficiency\\\\nDesign Circular Systems\\\\nAccelerate Sustainable\\\\nInnovation\\\\n\\\\nGOVERNANCE\\\\nANNEX\\\\n\\\\n\\\\n\\\\n\\\\n\\\\n\\\\nWith innovation at our core,\\\\nwe\\'ve earned a reputation for\\\\nrevolutionizing the retail landscape\\\\nby developing agile systems, using\\\\nstrategic data analytics and testing\\\\nand scaling new business solutions.\\\\n\\\\n\\\\n## The Test-and-Scale Approach\\\\n\\\\nThe test-and-scale approach is a fundamental\\\\naspect of our SHEIN culture - with employees\\\\nencouraged to identify opportunities for\\\\nimprovement, conduct research and propose\\\\nsolutions. For example, any new product we offer\\\\nonline starts with a small test batch so that we can\\\\nassess how it resonates with our customers before\\\\nwe scale up orders to meet demand. Similarly,\\\\nwe apply this approach to how we accelerate\\\\nsustainable innovation, testing new materials and\\\\nbusiness models before iterating to scale them\\\\nsuccessfully within our operations.\\\\n\\\\n\\\\n## Innovation at SHEIN\\\\n\\\\nWe are committed to driving transformation across\\\\nthe garment-manufacturing industry through\\\\nresearch and development (R&D), establishment\\\\nof best practices and information-sharing. The\\\\nCenter of Innovation for Garment Manufacturing\\\\n(CIGM), established in 2022, conducts R&D\\\\nin waste-saving and efficiency-optimizing\\\\ntechnologies that can be scaled across SHEIN\\'s\\\\nsupply chain. It conducts knowledge-sharing and\\\\ntraining for our suppliers on the latest technologies\\\\n\\\\nand techniques, including on product quality,\\\\norganizational management and workplace\\\\nexperience, to optimize efficiencies. It also offers\\\\nconsultancy services on factory site selection,\\\\nfacility design and layout.\\\\n\\\\nIn 2023, the CIGM successfully filed 10 patents\\\\nfor new technology/tools focusing on complex\\\\ncraftsmanship methods and special fabrics, each\\\\nachieving garment-production efficiency gains of\\\\nover 40%. The CIGM has also developed over 100\\\\nsewing and garment-making tools for our suppliers.\\\\nTargeting specialty and complex garment and\\\\nfabric types has helped to improve product quality,\\\\nthereby reducing customer return rates. In 2023,\\\\nthe CIGM carried out over 380 training sessions\\\\nfor over 5,000 suppliers across our supply chain.\\\\nThe CIGM also collaborates with universities\\\\nand academic institutions to launch joint training\\\\nprograms, including practical training and seminars\\\\non sewing techniques and other aspects of\\\\ngarment manufacturing, and to offer scholarships\\\\nto help develop a pipeline of young talent for local\\\\ngarment-manufacturing industries.\\\\n\\\\n\\\\n\\\\n\\\\n\\\\nThis hanging line conveyor system was developed by\\\\nSHEIN\\'s in-house team to move clothes and items\\\\nacross production floors handling multi-category orders.\\\\nThe system includes data-collection and processing\\\\ncapabilities and can be fitted with either clothes hangers\\\\nor baskets to improve production efficiency.\\\\n\\\\n\\\\n\\\\n\\\\n\\\\nInnovations developed by SHEIN, like these glove\\\\npattern templates, have helped create more consistency\\\\nin production, and a reduction in suppliers\\' equipment\\\\npurchasing costs.\\\\n\\\\n\\\\n\\\\n\\\\n\"]}])', call_id='call_sqcxYe4ztaW9iOFCoyvTt1Mt'), FunctionExecutionResult(content='dict_values([{\\'Chunks\\': [\"SHEIN\\\\n\\\\n\\\\n## INTRODUCTION PEOPLE PLANET\\\\n\\\\nPROCESS: WASTE-LESS\\\\nINNOVATION\\\\n\\\\nOptimize Resource Efficiency\\\\nDesign Circular Systems\\\\nAccelerate Sustainable\\\\nInnovation\\\\n\\\\nGOVERNANCE\\\\nANNEX\\\\n\\\\n2023 SUSTAINABILITY AND\\\\nSOCIAL IMPACT REPORT\\\\n\\\\n\\\\n\\\\n\\\\nWe constantly seek to enhance\\\\nefficiency throughout our value\\\\nchain, conserving essential\\\\nresources like water, energy and\\\\nraw materials. By minimizing\\\\nconsumption and waste, we ensure\\\\nthat we use only what is necessary.\\\\n\\\\n\\\\n## Tech-Driven Waste Reduction\\\\n\\\\nWaste of resources from overproduction is a\\\\nsystemic challenge that the retail sector faces.\\\\nAcknowledging this problem, our innovative\\\\non-demand business model strives to minimize\\\\nwaste from the start, which also reduces costs for\\\\ncustomers. Utilizing small-batch ordering based on\\\\ntrend research and direct feedback, SHEIN seeks\\\\nto maintain consistently low unsold inventory rates.\\\\nAdditionally, our digital supplier management\\\\nsystem equips our partners with real-time insights,\\\\nto aid in more accurate production planning and\\\\nminimize resource wastage.\\\\n\\\\n\\\\n## Conserving Water\\\\n\\\\nWater is an essential resource at every stage of\\\\nthe apparel value chain, and we are committed\\\\nto optimizing its use within our supply chain.\\\\n\\\\nMany of our suppliers already use closed-loop\\\\nwater treatment and reuse processes that help\\\\nreduce water consumption. We also invest in\\\\nresearch and development of manufacturing\\\\n\\\\ntechnology and production processes that\\\\nconsume less water, and encourage our suppliers\\\\nto adopt these practices.\\\\n\\\\nOur CbD projects for supplier facilities,\\\\nimplemented in collaboration with Apparel Impact\\\\nInstitute, have also targeted improving water\\\\nefficiency. Our projects in 2023 are estimated to\\\\nhave saved around 1 million cubic meters of water.\\\\n\\\\nIn 2023, over 52% of directly sourced printed fabric\\\\nutilized digital thermal transfer printing (DTP),\\\\nwhich is a zero-water-waste printing method\\\\nverified by Bureau Veritas. The DTP initiative\\\\nis estimated to have saved over 290,000 cubic\\\\nmeters of water and over 32,600 MWh of electricity\\\\ncompared to traditional screen-printing in 2023,\\\\nwhich also results in a reduction of 60,524 metric\\\\ntons of CO2e.\\\\n\\\\nSHEIN is also working with suppliers to increase\\\\nadoption of cool transfer denim printing technology,\\\\nwhich uses innovative high-fixation ink in place of\\\\nconventional indigo colorants. This method was\\\\nverified by Bureau Veritas in October 2023 to use\\\\n70.5% less water than traditional denim apparel\\\\nwashing methods. This also provides our designers\\\\nwith more flexibility to create designs with a variety\\\\nof colors and style accents, since they can print the\\\\npattern onto the denim fabric directly using a digital\\\\nprinter. SHEIN has integrated the cool transfer\\\\ndenim production process into our agile supply\\\\nchain, allowing our suppliers to produce innovative\\\\ndenim designs in a more water-efficient manner.\\\\n\\\\n\\\\n# CLEAN BY DESIGN - SUPPORTING WATER CONSERVATION\\\\n\\\\n\\\\n## SHEIN Supplier in Zhaoqing City\\\\n\\\\nThrough the CbD initiative, with the support\\\\nof SHEIN\\'s team of experts, a SHEIN\\\\nsupplier in Zhaoqing City enhanced their\\\\nmotor energy efficiency and switched to\\\\nenergy-efficient machinery like dyeing\\\\nmachines, shaping devices and air\\\\ncompressors. They also developed a system\\\\nto monitor and mitigate water and stream\\\\nrunoff and leaks and pioneered research\\\\ninto energy-conserving, short-duration\\\\ndyeing processes. This not only reduced\\\\ntheir energy footprint, but also resulted in a\\\\n19.7% reduction in water usage.\\\\n\\\\n\\\\n## SHEIN Supplier in Foshan City\\\\n\\\\nWith SHEIN\\'s experts assessing and\\\\nevaluating production methods and\\\\nproviding technical support, our supplier\\\\nin Foshan City managed to achieve an\\\\n18.2% reduction in water usage and a\\\\n15.4% reduction in wastewater discharge\\\\nby revamping their production methods.\\\\nThe supplier implemented measures such\\\\nas dyeing machine insulation, centralized\\\\ncooling systems and self-service dye\\\\ntransfer systems, and adopted deep\\\\ntreatment and reuse of wastewater from\\\\ndyeing and finishing operations.\\\\n\\\\n\\\\n\\\\n\\\\n\\\\n\\\\n\\\\n\\\\n\"]}])', call_id='call_jZo2pYX4BAFqgSNxR0vcGbZs'), FunctionExecutionResult(content='dict_values([{\\'Chunks\\': [\\'SHEIN\\\\n\\\\n\\\\n## INTRODUCTION\\\\n\\\\nPEOPLE: EQUITABLE\\\\nEMPOWERMENT\\\\n\\\\nEnable Self-Expression for All\\\\nProvide Access to Talent\\\\nImprove Lives in Communities\\\\n\\\\nPLANET\\\\nPROCESS\\\\nGOVERNANCE\\\\nANNEX\\\\n\\\\n\\\\n\\\\n\\\\n# Empowering Communities We Reach\\\\n\\\\nAs SHEIN grows, we believe in\\\\nhelping our communities and\\\\necosystem partners grow with us.\\\\n\\\\nAt SHEIN, we understand our responsibility\\\\nto drive positive change. We are committed to\\\\nempowering the communities we reach, and\\\\nare proud to advocate for, and support, causes\\\\nwe care about. In 2023, we announced that we\\\\nhave allocated a total of up to US$155 million\\\\nover the next five years towards initiatives that\\\\nsupport the \"Equitable Empowerment\" pillar of\\\\nour evoluSHEIN roadmap.\\\\n\\\\nIn line with our mission to make the beauty\\\\nof fashion accessible to all, our initiatives\\\\nunder this pillar focus on uplifting our supplier\\\\ncommunity, empowering aspiring designers,\\\\nchampioning women, promoting gender equality,\\\\nsupporting the development of young people\\\\nand poverty alleviation.\\\\n\\\\n\\\\n## Supplier Community Empowerment Program\\\\n\\\\nOur suppliers are valuable partners in the SHEIN\\\\necosystem. Through our SCEP, we have been\\\\nimplementing long-term initiatives to empower our\\\\npartners in factory enhancement, accommodation\\\\nand lifestyle facilities upgrades, technology innovation,\\\\ntraining support and community engagement.\\\\n\\\\nIn April 2023, we announced plans to allocate\\\\nup to US$70 million for programs under the\\\\nSCEP over the next five years.\\\\n\\\\n\\\\n## Facility Enhancements\\\\n\\\\nSince launching the SCEP, SHEIN set out to\\\\nupgrade and expand 100 factories by 2023.\\\\nIn 2023, SHEIN exceeded this target; we\\\\nmodernized 132 supplier factories in our supply\\\\nchain with facility enhancements, upgrades and\\\\nexpansion, transforming over 407,000 square\\\\nmeters of workspace.\\\\n\\\\nInvestments have also been made in services\\\\nthat benefit communities within the supply\\\\nchain ecosystem. In 2023, SHEIN completed\\\\nthe upgrading of canteens, dormitories and\\\\nmultipurpose recreational spaces, amounting to\\\\n10,486 square meters across 23 supplier facilities.\\\\n\\\\n\\\\n## Training and Upskilling\\\\n\\\\nIn 2023, SHEIN conducted 620 training sessions\\\\nfor workers in our supply chain, covering\\\\nsubjects such as business and operational\\\\nprocesses, the latest technologies in garment\\\\nproduction, certification courses focusing on\\\\nquality inspections and assurance, and national\\\\nvocational skill level certifications.\\\\n\\\\n\\\\n\\\\n\\\\n\\\\nInvesting in improvements to lifestyle facilities, such as\\\\nthis canteen, is part of SHEIN\\\\\\'s approach to uplifting\\\\nworker wellbeing.\\\\n\\\\n\\\\n\\\\n\\\\n\\']}])', call_id='call_s0KSpM3DYqecewDiYf0qN3yx')]\n",
      "Transitioning To:  answer_agent\n",
      "Intermediate Response: ### How is Shein Innovating?\n",
      "\n",
      "Shein is actively innovating across multiple dimensions of its business, focusing on efficiency, sustainability, and community empowerment. Here are some key areas of innovation:\n",
      "\n",
      "#### 1. **Agile Systems and Data Analytics**\n",
      "- **Test-and-Scale Approach**: Shein employs a test-and-scale approach where new products are initially launched in small batches to gauge customer response before scaling up. This method is also applied to sustainable innovations, allowing the company to test new materials and business models before full implementation.\n",
      "\n",
      "#### 2. **Sustainable Innovation**\n",
      "- **Center of Innovation for Garment Manufacturing (CIGM)**: Established in 2022, the CIGM focuses on R&D in waste-saving and efficiency-optimizing technologies. In 2023, the center filed 10 patents and developed over 100 sewing and garment-making tools, achieving significant efficiency gains and reducing customer return rates.\n",
      "- **Water Conservation**: Shein has implemented various water-saving technologies, such as digital thermal transfer printing (DTP) and cool transfer denim printing, which significantly reduce water usage compared to traditional methods.\n",
      "\n",
      "#### 3. **Tech-Driven Waste Reduction**\n",
      "- **On-Demand Business Model**: Shein's on-demand model minimizes waste by using small-batch ordering based on trend research and direct customer feedback. This approach helps maintain low unsold inventory rates and reduces resource wastage.\n",
      "\n",
      "#### 4. **Community Empowerment**\n",
      "- **Supplier Community Empowerment Program (SCEP)**: Shein has allocated up to $70 million over the next five years to empower its supplier community through factory enhancements, technology innovation, and training support. In 2023, Shein modernized 132 supplier factories and conducted 620 training sessions for workers.\n",
      "\n",
      "#### 5. **Facility Enhancements**\n",
      "- **Upgrading Supplier Facilities**: Shein has invested in upgrading canteens, dormitories, and recreational spaces for workers, enhancing the overall well-being of its supply chain community.\n",
      "\n",
      "### Conclusion\n",
      "Shein's innovation strategy is comprehensive, addressing efficiency, sustainability, and community empowerment. The company's focus on agile systems, sustainable practices, and community support positions it as a forward-thinking player in the retail industry. Investors may find Shein's commitment to innovation and sustainability promising for long-term growth and resilience.\n",
      "Answer: ### How is Shein Innovating?\n",
      "\n",
      "Shein is actively innovating across multiple dimensions of its business, focusing on efficiency, sustainability, and community empowerment. Here are some key areas of innovation:\n",
      "\n",
      "#### 1. **Agile Systems and Data Analytics**\n",
      "- **Test-and-Scale Approach**: Shein employs a test-and-scale approach where new products are initially launched in small batches to gauge customer response before scaling up. This method is also applied to sustainable innovations, allowing the company to test new materials and business models before full implementation.\n",
      "\n",
      "#### 2. **Sustainable Innovation**\n",
      "- **Center of Innovation for Garment Manufacturing (CIGM)**: Established in 2022, the CIGM focuses on R&D in waste-saving and efficiency-optimizing technologies. In 2023, the center filed 10 patents and developed over 100 sewing and garment-making tools, achieving significant efficiency gains and reducing customer return rates.\n",
      "- **Water Conservation**: Shein has implemented various water-saving technologies, such as digital thermal transfer printing (DTP) and cool transfer denim printing, which significantly reduce water usage compared to traditional methods.\n",
      "\n",
      "#### 3. **Tech-Driven Waste Reduction**\n",
      "- **On-Demand Business Model**: Shein's on-demand model minimizes waste by using small-batch ordering based on trend research and direct customer feedback. This approach helps maintain low unsold inventory rates and reduces resource wastage.\n",
      "\n",
      "#### 4. **Community Empowerment**\n",
      "- **Supplier Community Empowerment Program (SCEP)**: Shein has allocated up to $70 million over the next five years to empower its supplier community through factory enhancements, technology innovation, and training support. In 2023, Shein modernized 132 supplier factories and conducted 620 training sessions for workers.\n",
      "\n",
      "#### 5. **Facility Enhancements**\n",
      "- **Upgrading Supplier Facilities**: Shein has invested in upgrading canteens, dormitories, and recreational spaces for workers, enhancing the overall well-being of its supply chain community.\n",
      "\n",
      "### Conclusion\n",
      "Shein's innovation strategy is comprehensive, addressing efficiency, sustainability, and community empowerment. The company's focus on agile systems, sustainable practices, and community support positions it as a forward-thinking player in the retail industry. Investors may find Shein's commitment to innovation and sustainability promising for long-term growth and resilience.\n"
     ]
    }
   ],
   "source": [
    "async for message in RAG_GROUP_CHAT.run_stream(task=USER_QUESTION):\n",
    "    if isinstance(message, ToolCallRequestEvent):\n",
    "        print(f\"Search Request: {message.content}\")\n",
    "    elif isinstance(message, ToolCallExecutionEvent):\n",
    "        print(f\"Search Results: {message.content}\")\n",
    "    elif isinstance(message, TextMessage):\n",
    "        print(f\"Intermediate Response: {message.content}\")\n",
    "    elif isinstance(message, TaskResult):\n",
    "        rag_final_response = message.messages[-1].content\n",
    "        print(f\"Answer: {rag_final_response}\")"
   ]
  },
  {
   "cell_type": "markdown",
   "metadata": {},
   "source": [
    "## Standard RAG Response"
   ]
  },
  {
   "cell_type": "code",
   "execution_count": 4,
   "metadata": {},
   "outputs": [
    {
     "data": {
      "text/markdown": [
       "### How is Shein Innovating?\n",
       "\n",
       "Shein is actively innovating across multiple dimensions of its business, focusing on efficiency, sustainability, and community empowerment. Here are some key areas of innovation:\n",
       "\n",
       "#### 1. **Agile Systems and Data Analytics**\n",
       "- **Test-and-Scale Approach**: Shein employs a test-and-scale approach where new products are initially launched in small batches to gauge customer response before scaling up. This method is also applied to sustainable innovations, allowing the company to test new materials and business models before full implementation.\n",
       "\n",
       "#### 2. **Sustainable Innovation**\n",
       "- **Center of Innovation for Garment Manufacturing (CIGM)**: Established in 2022, the CIGM focuses on R&D in waste-saving and efficiency-optimizing technologies. In 2023, the center filed 10 patents and developed over 100 sewing and garment-making tools, achieving significant efficiency gains and reducing customer return rates.\n",
       "- **Water Conservation**: Shein has implemented various water-saving technologies, such as digital thermal transfer printing (DTP) and cool transfer denim printing, which significantly reduce water usage compared to traditional methods.\n",
       "\n",
       "#### 3. **Tech-Driven Waste Reduction**\n",
       "- **On-Demand Business Model**: Shein's on-demand model minimizes waste by using small-batch ordering based on trend research and direct customer feedback. This approach helps maintain low unsold inventory rates and reduces resource wastage.\n",
       "\n",
       "#### 4. **Community Empowerment**\n",
       "- **Supplier Community Empowerment Program (SCEP)**: Shein has allocated up to $70 million over the next five years to empower its supplier community through factory enhancements, technology innovation, and training support. In 2023, Shein modernized 132 supplier factories and conducted 620 training sessions for workers.\n",
       "\n",
       "#### 5. **Facility Enhancements**\n",
       "- **Upgrading Supplier Facilities**: Shein has invested in upgrading canteens, dormitories, and recreational spaces for workers, enhancing the overall well-being of its supply chain community.\n",
       "\n",
       "### Conclusion\n",
       "Shein's innovation strategy is comprehensive, addressing efficiency, sustainability, and community empowerment. The company's focus on agile systems, sustainable practices, and community support positions it as a forward-thinking player in the retail industry. Investors may find Shein's commitment to innovation and sustainability promising for long-term growth and resilience."
      ]
     },
     "metadata": {},
     "output_type": "display_data"
    }
   ],
   "source": [
    "display_markdown(rag_final_response, raw=True)"
   ]
  },
  {
   "cell_type": "code",
   "execution_count": 5,
   "metadata": {},
   "outputs": [
    {
     "name": "stdout",
     "output_type": "stream",
     "text": [
      "Transitioning To:  research_agent\n",
      "Intermediate Response: How is Shein innovating?\n"
     ]
    },
    {
     "name": "stderr",
     "output_type": "stream",
     "text": [
      "c:\\Users\\benconstable\\OneDrive - Microsoft\\Documents\\open_source\\rat\\.venv\\Lib\\site-packages\\autogen_agentchat\\agents\\_assistant_agent.py:386: UserWarning: Both tool_calls and content are present in the message. This is unexpected. content will be ignored, tool_calls will be used.\n",
      "  model_result = await self._model_client.create(\n"
     ]
    },
    {
     "name": "stdout",
     "output_type": "stream",
     "text": [
      "Search Request: [FunctionCall(id='call_uekGeIvcY7E4qghmh91pL6gn', arguments='{\"queries\": [\"Shein new technologies\"]}', name='search_index'), FunctionCall(id='call_2O6s22ZZGuGrjqSCuCazISU8', arguments='{\"queries\": [\"Shein supply chain improvements\"]}', name='search_index'), FunctionCall(id='call_eCVSHNI7Z1glVOKg3jHpzXYC', arguments='{\"queries\": [\"Shein new products services\"]}', name='search_index'), FunctionCall(id='call_wjPSrmxqFIK3vrMv8hxbBYMn', arguments='{\"queries\": [\"Shein customer experience enhancements\"]}', name='search_index'), FunctionCall(id='call_0IfuMzioaag0EHiSoCHrV0KK', arguments='{\"queries\": [\"Shein sustainability initiatives\"]}', name='search_index'), FunctionCall(id='call_t99ykQCPqq0zdULy5HXUK3Gs', arguments='{\"queries\": [\"Shein data analytics\"]}', name='search_index')]\n",
      "Search Results: [FunctionExecutionResult(content='dict_values([{\\'Chunks\\': [\"SHEIN\\\\n\\\\n\\\\n## INTRODUCTION PEOPLE PLANET\\\\n\\\\nPROCESS: WASTE-LESS\\\\nINNOVATION\\\\n\\\\nOptimize Resource Efficiency\\\\nDesign Circular Systems\\\\nAccelerate Sustainable\\\\nInnovation\\\\n\\\\nGOVERNANCE\\\\nANNEX\\\\n\\\\n\\\\n\\\\n\\\\n\\\\n\\\\nWith innovation at our core,\\\\nwe\\'ve earned a reputation for\\\\nrevolutionizing the retail landscape\\\\nby developing agile systems, using\\\\nstrategic data analytics and testing\\\\nand scaling new business solutions.\\\\n\\\\n\\\\n## The Test-and-Scale Approach\\\\n\\\\nThe test-and-scale approach is a fundamental\\\\naspect of our SHEIN culture - with employees\\\\nencouraged to identify opportunities for\\\\nimprovement, conduct research and propose\\\\nsolutions. For example, any new product we offer\\\\nonline starts with a small test batch so that we can\\\\nassess how it resonates with our customers before\\\\nwe scale up orders to meet demand. Similarly,\\\\nwe apply this approach to how we accelerate\\\\nsustainable innovation, testing new materials and\\\\nbusiness models before iterating to scale them\\\\nsuccessfully within our operations.\\\\n\\\\n\\\\n## Innovation at SHEIN\\\\n\\\\nWe are committed to driving transformation across\\\\nthe garment-manufacturing industry through\\\\nresearch and development (R&D), establishment\\\\nof best practices and information-sharing. The\\\\nCenter of Innovation for Garment Manufacturing\\\\n(CIGM), established in 2022, conducts R&D\\\\nin waste-saving and efficiency-optimizing\\\\ntechnologies that can be scaled across SHEIN\\'s\\\\nsupply chain. It conducts knowledge-sharing and\\\\ntraining for our suppliers on the latest technologies\\\\n\\\\nand techniques, including on product quality,\\\\norganizational management and workplace\\\\nexperience, to optimize efficiencies. It also offers\\\\nconsultancy services on factory site selection,\\\\nfacility design and layout.\\\\n\\\\nIn 2023, the CIGM successfully filed 10 patents\\\\nfor new technology/tools focusing on complex\\\\ncraftsmanship methods and special fabrics, each\\\\nachieving garment-production efficiency gains of\\\\nover 40%. The CIGM has also developed over 100\\\\nsewing and garment-making tools for our suppliers.\\\\nTargeting specialty and complex garment and\\\\nfabric types has helped to improve product quality,\\\\nthereby reducing customer return rates. In 2023,\\\\nthe CIGM carried out over 380 training sessions\\\\nfor over 5,000 suppliers across our supply chain.\\\\nThe CIGM also collaborates with universities\\\\nand academic institutions to launch joint training\\\\nprograms, including practical training and seminars\\\\non sewing techniques and other aspects of\\\\ngarment manufacturing, and to offer scholarships\\\\nto help develop a pipeline of young talent for local\\\\ngarment-manufacturing industries.\\\\n\\\\n\\\\n\\\\n\\\\n\\\\nThis hanging line conveyor system was developed by\\\\nSHEIN\\'s in-house team to move clothes and items\\\\nacross production floors handling multi-category orders.\\\\nThe system includes data-collection and processing\\\\ncapabilities and can be fitted with either clothes hangers\\\\nor baskets to improve production efficiency.\\\\n\\\\n\\\\n\\\\n\\\\n\\\\nInnovations developed by SHEIN, like these glove\\\\npattern templates, have helped create more consistency\\\\nin production, and a reduction in suppliers\\' equipment\\\\npurchasing costs.\\\\n\\\\n\\\\n\\\\n\\\\n\"]}])', call_id='call_uekGeIvcY7E4qghmh91pL6gn'), FunctionExecutionResult(content='dict_values([{\\'Chunks\\': [\\'SHEIN\\\\n\\\\n\\\\n## INTRODUCTION\\\\n\\\\nPEOPLE: EQUITABLE\\\\nEMPOWERMENT\\\\n\\\\nEnable Self-Expression for All\\\\nProvide Access to Talent\\\\nImprove Lives in Communities\\\\n\\\\nPLANET\\\\nPROCESS\\\\nGOVERNANCE\\\\nANNEX\\\\n\\\\n\\\\n\\\\n\\\\n# Empowering Communities We Reach\\\\n\\\\nAs SHEIN grows, we believe in\\\\nhelping our communities and\\\\necosystem partners grow with us.\\\\n\\\\nAt SHEIN, we understand our responsibility\\\\nto drive positive change. We are committed to\\\\nempowering the communities we reach, and\\\\nare proud to advocate for, and support, causes\\\\nwe care about. In 2023, we announced that we\\\\nhave allocated a total of up to US$155 million\\\\nover the next five years towards initiatives that\\\\nsupport the \"Equitable Empowerment\" pillar of\\\\nour evoluSHEIN roadmap.\\\\n\\\\nIn line with our mission to make the beauty\\\\nof fashion accessible to all, our initiatives\\\\nunder this pillar focus on uplifting our supplier\\\\ncommunity, empowering aspiring designers,\\\\nchampioning women, promoting gender equality,\\\\nsupporting the development of young people\\\\nand poverty alleviation.\\\\n\\\\n\\\\n## Supplier Community Empowerment Program\\\\n\\\\nOur suppliers are valuable partners in the SHEIN\\\\necosystem. Through our SCEP, we have been\\\\nimplementing long-term initiatives to empower our\\\\npartners in factory enhancement, accommodation\\\\nand lifestyle facilities upgrades, technology innovation,\\\\ntraining support and community engagement.\\\\n\\\\nIn April 2023, we announced plans to allocate\\\\nup to US$70 million for programs under the\\\\nSCEP over the next five years.\\\\n\\\\n\\\\n## Facility Enhancements\\\\n\\\\nSince launching the SCEP, SHEIN set out to\\\\nupgrade and expand 100 factories by 2023.\\\\nIn 2023, SHEIN exceeded this target; we\\\\nmodernized 132 supplier factories in our supply\\\\nchain with facility enhancements, upgrades and\\\\nexpansion, transforming over 407,000 square\\\\nmeters of workspace.\\\\n\\\\nInvestments have also been made in services\\\\nthat benefit communities within the supply\\\\nchain ecosystem. In 2023, SHEIN completed\\\\nthe upgrading of canteens, dormitories and\\\\nmultipurpose recreational spaces, amounting to\\\\n10,486 square meters across 23 supplier facilities.\\\\n\\\\n\\\\n## Training and Upskilling\\\\n\\\\nIn 2023, SHEIN conducted 620 training sessions\\\\nfor workers in our supply chain, covering\\\\nsubjects such as business and operational\\\\nprocesses, the latest technologies in garment\\\\nproduction, certification courses focusing on\\\\nquality inspections and assurance, and national\\\\nvocational skill level certifications.\\\\n\\\\n\\\\n\\\\n\\\\n\\\\nInvesting in improvements to lifestyle facilities, such as\\\\nthis canteen, is part of SHEIN\\\\\\'s approach to uplifting\\\\nworker wellbeing.\\\\n\\\\n\\\\n\\\\n\\\\n\\']}])', call_id='call_2O6s22ZZGuGrjqSCuCazISU8'), FunctionExecutionResult(content='dict_values([{\\'Chunks\\': [\"SHEIN\\\\n\\\\n\\\\n## INTRODUCTION\\\\n\\\\nA Note From\\\\nOur CEO\\\\nAbout Us\\\\n\\\\nMateriality: Identifying\\\\nPriority Areas\\\\nOur Approach: evoluSHEIN\\\\nTargets and\\\\nAspirations\\\\n2023 ESG\\\\nHighlights\\\\n\\\\nPEOPLE\\\\nPLANET\\\\nPROCESS\\\\nGOVERNANCE\\\\nANNEX\\\\n\\\\n\\\\n## On-Demand Business Model\\\\n\\\\nWe analyze demand signals from the way users\\\\nengage with our app or website, and use these\\\\ninsights to make the products we know our\\\\ncustomers want, when they want them.\\\\n\\\\nWe continuously monitor and track the gap\\\\nbetween existing stock and projected customers\\'\\\\nneeds to understand where and when we need\\\\nto procure additional units. This digitalized\\\\nprocess ensures that we obtain the appropriate\\\\nnumber and types of products from our suppliers\\\\nbased on our customers\\' orders.\\\\n\\\\nBy adopting an on-demand business model,\\\\nwe strive to offer diverse products at accessible\\\\nprices, while also seeking to reduce inventory\\\\nwaste left over from unsold products in SHEIN\\'s\\\\nwarehouses.\\\\n\\\\nFor more details on our business model, please\\\\nvisit sheingroup.com.\\\\n\\\\n\\\\n## Elevating Customer Experience, Empowering Businesses\\\\n\\\\nIn May 2023, we announced the launch of our\\\\nglobal integrated marketplace, hosting local\\\\nand international third-party sellers on our site\\\\nalongside SHEIN brands. This new marketplace\\\\nis set to enhance the customer experience,\\\\nproviding access to an increased variety of\\\\nproducts and improved logistics, with shorter\\\\ndelivery times and lower costs.\\\\n\\\\nOur integrated platform also empowers small\\\\nand independent businesses to grow, connecting\\\\nthem with our extensive global customer base and\\\\nequipping them with the tools to succeed. Sellers\\\\ncan leverage SHEIN\\'s social media and marketing\\\\nexpertise, gain access to real-time market\\\\ninsights and utilize SHEIN\\'s global logistics and\\\\ndistribution ecosystem for order fulfillment. They\\\\ncan also participate in our AcceleraSHEIN seller-\\\\nempowerment program, which offers weekly\\\\ntraining sessions and workshops conducted by\\\\nprofessional consultants and unlocks incentives\\\\nlike product showcases and traffic boosts.\\\\n\\\\n\\\\n\\\\n\\\\n\\\\n\"]}])', call_id='call_eCVSHNI7Z1glVOKg3jHpzXYC'), FunctionExecutionResult(content='dict_values([{\\'Chunks\\': [\"SHEIN\\\\n\\\\n\\\\n## INTRODUCTION\\\\n\\\\nA Note From\\\\nOur CEO\\\\nAbout Us\\\\n\\\\nMateriality: Identifying\\\\nPriority Areas\\\\nOur Approach: evoluSHEIN\\\\nTargets and\\\\nAspirations\\\\n2023 ESG\\\\nHighlights\\\\n\\\\nPEOPLE\\\\nPLANET\\\\nPROCESS\\\\nGOVERNANCE\\\\nANNEX\\\\n\\\\n\\\\n## On-Demand Business Model\\\\n\\\\nWe analyze demand signals from the way users\\\\nengage with our app or website, and use these\\\\ninsights to make the products we know our\\\\ncustomers want, when they want them.\\\\n\\\\nWe continuously monitor and track the gap\\\\nbetween existing stock and projected customers\\'\\\\nneeds to understand where and when we need\\\\nto procure additional units. This digitalized\\\\nprocess ensures that we obtain the appropriate\\\\nnumber and types of products from our suppliers\\\\nbased on our customers\\' orders.\\\\n\\\\nBy adopting an on-demand business model,\\\\nwe strive to offer diverse products at accessible\\\\nprices, while also seeking to reduce inventory\\\\nwaste left over from unsold products in SHEIN\\'s\\\\nwarehouses.\\\\n\\\\nFor more details on our business model, please\\\\nvisit sheingroup.com.\\\\n\\\\n\\\\n## Elevating Customer Experience, Empowering Businesses\\\\n\\\\nIn May 2023, we announced the launch of our\\\\nglobal integrated marketplace, hosting local\\\\nand international third-party sellers on our site\\\\nalongside SHEIN brands. This new marketplace\\\\nis set to enhance the customer experience,\\\\nproviding access to an increased variety of\\\\nproducts and improved logistics, with shorter\\\\ndelivery times and lower costs.\\\\n\\\\nOur integrated platform also empowers small\\\\nand independent businesses to grow, connecting\\\\nthem with our extensive global customer base and\\\\nequipping them with the tools to succeed. Sellers\\\\ncan leverage SHEIN\\'s social media and marketing\\\\nexpertise, gain access to real-time market\\\\ninsights and utilize SHEIN\\'s global logistics and\\\\ndistribution ecosystem for order fulfillment. They\\\\ncan also participate in our AcceleraSHEIN seller-\\\\nempowerment program, which offers weekly\\\\ntraining sessions and workshops conducted by\\\\nprofessional consultants and unlocks incentives\\\\nlike product showcases and traffic boosts.\\\\n\\\\n\\\\n\\\\n\\\\n\\\\n\"]}])', call_id='call_wjPSrmxqFIK3vrMv8hxbBYMn'), FunctionExecutionResult(content='dict_values([{\\'Chunks\\': [\"\\\\n\\\\n\\\\n## INTRODUCTION PEOPLE\\\\n\\\\nPLANET: COLLECTIVE\\\\nRESILIENCE\\\\n\\\\nDecarbonize Our\\\\nSupply Chain\\\\n\\\\nSource Responsible Materials\\\\n\\\\nProtect Biodiversity\\\\nand Animal Welfare\\\\n\\\\nPROCESS\\\\nGOVERNANCE\\\\nANNEX\\\\n\\\\n\\\\n\\\\n\\\\n### Reducing SHEIN\\'s Direct Impact\\\\n\\\\nOur Scope 1 and 2 emissions account for only a\\\\nsmall proportion of total emissions and are mainly\\\\nlinked to electricity usage. We are implementing\\\\nprograms to better manage and reduce the\\\\nelectricity we use in our offices and warehouses,\\\\nas well as expand our use of renewable energy.\\\\nIn 2023, SHEIN used a total of 165,206 MWh of\\\\nelectricity across the operations that we directly\\\\nmanage globally.23 Seventy-two percent of this\\\\nwas from renewable sources, up from 68% in\\\\n2022. We\\'re on track to achieving our target of\\\\nhaving 100% of the electricity used in operations\\\\ndirectly managed by SHEIN from renewable\\\\nsources by 2030.\\\\n\\\\n\\\\n#### Key Initiatives in 2023:\\\\n\\\\n. We installed 43.6MW of capacity in seven of our\\\\nwarehouses, which generated 3,953 MWh of\\\\nelectricity, reducing 2,255 metric tons of CO2e.\\\\n\\\\n. We carried out energy-efficiency improvement\\\\nprojects in three representative SHEIN facilities,\\\\nnamely a warehouse in Zhaoqing, our SHEIN\\\\noffice in Guangzhou and the SHEIN CIGM in\\\\nGuangzhou, which helped us develop energy-\\\\nefficiency recommendations for such facilities.\\\\n\\\\n. We are switching from procuring\\\\nheptafluoropropane fire extinguishers to\\\\nIG-541 or dry powder extinguishers, with 99%\\\\nlower emissions, for all our data centers.\\\\n\\\\n\\\\n### Reducing SHEIN\\'s Indirect Impact\\\\n\\\\nWe acknowledge that, with over 99% of our\\\\nemissions coming from Scope 3, we must collaborate\\\\nwith our suppliers and other value chain partners to\\\\naddress these areas. Significant work remains, but we\\\\nhave launched several programs in 2023 to support\\\\nour suppliers in their decarbonization journeys.\\\\n\\\\nIn partnership with Apparel Impact Institute (Aii),\\\\nwe initiated Clean by Design (CbD) projects, which\\\\nfocus on improving process efficiencies to reduce\\\\nenergy, water and chemical usage and waste\\\\ngenerated in the manufacturing process. These\\\\nprojects, implemented across 28 supplier sites,\\\\ncollectively introduced 217 improvement actions,\\\\nsaving 14,046 MWh of electricity and nearly 46,000\\\\nmetric tons of CO2e per year.\\\\n\\\\nWe also promote the adoption of rooftop\\\\nsolar energy in our supply chain, establishing\\\\npartnerships to design customized solarization\\\\nplans for our suppliers. These are complemented\\\\nby cash incentives to encourage adoption by\\\\nour suppliers. We also reached out to over 300\\\\nsuppliers to share about rooftop solar alternatives.\\\\nAs of end 2023, 31 suppliers have installed\\\\nand 10 suppliers are in the process of installing\\\\nphotovoltaic solar panels for their factories, totaling\\\\n51.6MW of solar capacity. These solar panels\\\\ngenerated 21,290 MWh in electricity, reducing\\\\nCO2e by 12,140 metric tons.24\\\\n\\\\nIn 2023, we began exploring initiatives to reduce\\\\nemissions in our logistics and transportation\\\\noperations. For example, in Europe, we introduced\\\\nlower-impact delivery options, offering self-pickup\\\\noptions for our customers so that they may collect\\\\ntheir purchases from a pickup point instead of\\\\nopting for doorstep delivery, which is estimated to\\\\nhave saved 19,468 metric tons of CO2e across\\\\neight countries. By working with logistics partners\\\\nwho use electric cars and hybrid or natural gas\\\\nvans, we saved 54,614 metric tons of CO2e across\\\\nsix countries in Europe.\\\\n\\\\nWe are also building partnerships with suppliers\\\\nin Brazil and Türkiye to bring production closer to\\\\nkey consumer regions, and expanding the number\\\\nof warehousing facilities globally in countries\\\\nsuch as the USA and Poland. This nearshoring\\\\nand onshoring strategy will help us to reduce\\\\ndelivery times, shipping costs and our Scope 3\\\\ncarbon footprint. In nearshoring inventory, we\\\\nmanaged to shift more air transportation to sea\\\\nand ground modes for routes to Europe and the\\\\nUSA, saving us 49,578 metric tons of CO2e. In\\\\nlocalizing procurement, we significantly reduced air\\\\ntransportation distance, resulting in an emissions\\\\nreduction of 314,805 metric tons of CO2e.25\\\\n\\\\n23\\\\nThis includes specific facilities where we were unable to track electricity consumption, for which the electricity consumption of\\\\nother similar facilities was used as proxy.\\\\n\\\\n24 We use a shifted reporting year to account for solar energy use by our supply chain, covering the period from September 2022 to\\\\nAugust 2023. Our GHG emissions accounting and reporting are aligned with the GHG Protocol.\\\\n\\\\n25 The potential emission reductions from the initiatives to reduce emissions in our logistics and transportation operations were\\\\nestimated working with the Carbon Trust, based on available information and assumptions.\\\\n\\\\n\\\\n\\\\n\\\\n\"]}])', call_id='call_0IfuMzioaag0EHiSoCHrV0KK'), FunctionExecutionResult(content='dict_values([{\\'Chunks\\': [\"SHEIN\\\\n\\\\n\\\\n## INTRODUCTION PEOPLE PLANET\\\\n\\\\nPROCESS: WASTE-LESS\\\\nINNOVATION\\\\n\\\\nOptimize Resource Efficiency\\\\nDesign Circular Systems\\\\nAccelerate Sustainable\\\\nInnovation\\\\n\\\\nGOVERNANCE\\\\nANNEX\\\\n\\\\n\\\\n\\\\n\\\\n\\\\n\\\\nWith innovation at our core,\\\\nwe\\'ve earned a reputation for\\\\nrevolutionizing the retail landscape\\\\nby developing agile systems, using\\\\nstrategic data analytics and testing\\\\nand scaling new business solutions.\\\\n\\\\n\\\\n## The Test-and-Scale Approach\\\\n\\\\nThe test-and-scale approach is a fundamental\\\\naspect of our SHEIN culture - with employees\\\\nencouraged to identify opportunities for\\\\nimprovement, conduct research and propose\\\\nsolutions. For example, any new product we offer\\\\nonline starts with a small test batch so that we can\\\\nassess how it resonates with our customers before\\\\nwe scale up orders to meet demand. Similarly,\\\\nwe apply this approach to how we accelerate\\\\nsustainable innovation, testing new materials and\\\\nbusiness models before iterating to scale them\\\\nsuccessfully within our operations.\\\\n\\\\n\\\\n## Innovation at SHEIN\\\\n\\\\nWe are committed to driving transformation across\\\\nthe garment-manufacturing industry through\\\\nresearch and development (R&D), establishment\\\\nof best practices and information-sharing. The\\\\nCenter of Innovation for Garment Manufacturing\\\\n(CIGM), established in 2022, conducts R&D\\\\nin waste-saving and efficiency-optimizing\\\\ntechnologies that can be scaled across SHEIN\\'s\\\\nsupply chain. It conducts knowledge-sharing and\\\\ntraining for our suppliers on the latest technologies\\\\n\\\\nand techniques, including on product quality,\\\\norganizational management and workplace\\\\nexperience, to optimize efficiencies. It also offers\\\\nconsultancy services on factory site selection,\\\\nfacility design and layout.\\\\n\\\\nIn 2023, the CIGM successfully filed 10 patents\\\\nfor new technology/tools focusing on complex\\\\ncraftsmanship methods and special fabrics, each\\\\nachieving garment-production efficiency gains of\\\\nover 40%. The CIGM has also developed over 100\\\\nsewing and garment-making tools for our suppliers.\\\\nTargeting specialty and complex garment and\\\\nfabric types has helped to improve product quality,\\\\nthereby reducing customer return rates. In 2023,\\\\nthe CIGM carried out over 380 training sessions\\\\nfor over 5,000 suppliers across our supply chain.\\\\nThe CIGM also collaborates with universities\\\\nand academic institutions to launch joint training\\\\nprograms, including practical training and seminars\\\\non sewing techniques and other aspects of\\\\ngarment manufacturing, and to offer scholarships\\\\nto help develop a pipeline of young talent for local\\\\ngarment-manufacturing industries.\\\\n\\\\n\\\\n\\\\n\\\\n\\\\nThis hanging line conveyor system was developed by\\\\nSHEIN\\'s in-house team to move clothes and items\\\\nacross production floors handling multi-category orders.\\\\nThe system includes data-collection and processing\\\\ncapabilities and can be fitted with either clothes hangers\\\\nor baskets to improve production efficiency.\\\\n\\\\n\\\\n\\\\n\\\\n\\\\nInnovations developed by SHEIN, like these glove\\\\npattern templates, have helped create more consistency\\\\nin production, and a reduction in suppliers\\' equipment\\\\npurchasing costs.\\\\n\\\\n\\\\n\\\\n\\\\n\"]}])', call_id='call_t99ykQCPqq0zdULy5HXUK3Gs')]\n",
      "Transitioning To:  answer_agent\n",
      "Intermediate Response: ### How is Shein Innovating?\n",
      "\n",
      "Shein is actively innovating across multiple dimensions of its business, focusing on technology, sustainability, and operational efficiency. Here are some key areas of innovation:\n",
      "\n",
      "#### 1. **Test-and-Scale Approach**\n",
      "Shein employs a test-and-scale approach, which is integral to its culture. This involves:\n",
      "- **Small Batch Testing**: New products are initially launched in small batches to gauge customer response before scaling up production.\n",
      "- **Sustainable Innovation**: New materials and business models are tested for sustainability before being scaled within operations.\n",
      "\n",
      "#### 2. **Center of Innovation for Garment Manufacturing (CIGM)**\n",
      "Established in 2022, the CIGM focuses on:\n",
      "- **R&D in Waste-Saving and Efficiency-Optimizing Technologies**: These technologies are designed to be scalable across Shein's supply chain.\n",
      "- **Patents and Tools**: In 2023, the CIGM filed 10 patents for new technologies and developed over 100 sewing and garment-making tools, achieving over 40% efficiency gains in garment production.\n",
      "- **Training and Knowledge Sharing**: The CIGM conducted over 380 training sessions for more than 5,000 suppliers and collaborates with universities for joint training programs.\n",
      "\n",
      "#### 3. **On-Demand Business Model**\n",
      "Shein's on-demand business model leverages data analytics to:\n",
      "- **Analyze Demand Signals**: Insights from user engagement on their app or website help in making products that customers want, reducing inventory waste.\n",
      "- **Digitalized Procurement**: Ensures the appropriate number and types of products are procured based on customer orders, minimizing unsold inventory.\n",
      "\n",
      "#### 4. **Global Integrated Marketplace**\n",
      "Launched in May 2023, this marketplace:\n",
      "- **Enhances Customer Experience**: By hosting local and international third-party sellers alongside Shein brands, it offers a wider variety of products and improved logistics.\n",
      "- **Empowers Small Businesses**: Provides tools for small and independent businesses to grow, including access to Shein's logistics, marketing expertise, and real-time market insights.\n",
      "\n",
      "#### 5. **Sustainability Initiatives**\n",
      "Shein is committed to reducing its environmental impact through:\n",
      "- **Renewable Energy**: In 2023, 72% of the electricity used in operations was from renewable sources, with a target of 100% by 2030.\n",
      "- **Decarbonization Programs**: Initiatives like Clean by Design (CbD) projects and promoting rooftop solar energy among suppliers have significantly reduced CO2 emissions.\n",
      "- **Logistics Optimization**: Nearshoring and onshoring strategies, along with lower-impact delivery options, have reduced transportation-related emissions.\n",
      "\n",
      "#### 6. **Supplier Community Empowerment Program (SCEP)**\n",
      "Shein invests in its supplier community through:\n",
      "- **Facility Enhancements**: Upgraded and expanded 132 supplier factories in 2023.\n",
      "- **Training and Upskilling**: Conducted 620 training sessions covering various aspects of garment production and business processes.\n",
      "\n",
      "### Conclusion\n",
      "Shein's innovation strategy is multifaceted, focusing on technological advancements, sustainable practices, and operational efficiencies. These efforts not only enhance their business model but also contribute to broader industry transformation and environmental sustainability. Investors should consider these innovative practices as indicators of Shein's commitment to growth and sustainability.\n",
      "Transitioning To:  revise_answer_agent\n",
      "Search Request: [FunctionCall(id='call_kTi19oAWTKSHfMA45cWM55fm', arguments='{\"queries\": [\"Shein innovation 2023\", \"Shein sustainability initiatives 2023\", \"Shein business model 2023\", \"Shein supplier community empowerment program 2023\"]}', name='search_index')]\n",
      "Search Results: [FunctionExecutionResult(content='dict_values([{\\'Chunks\\': [\"SHEIN\\\\n\\\\n\\\\n## INTRODUCTION PEOPLE PLANET\\\\n\\\\nPROCESS: WASTE-LESS\\\\nINNOVATION\\\\n\\\\nOptimize Resource Efficiency\\\\nDesign Circular Systems\\\\nAccelerate Sustainable\\\\nInnovation\\\\n\\\\nGOVERNANCE\\\\nANNEX\\\\n\\\\n\\\\n\\\\n\\\\n\\\\n\\\\nWith innovation at our core,\\\\nwe\\'ve earned a reputation for\\\\nrevolutionizing the retail landscape\\\\nby developing agile systems, using\\\\nstrategic data analytics and testing\\\\nand scaling new business solutions.\\\\n\\\\n\\\\n## The Test-and-Scale Approach\\\\n\\\\nThe test-and-scale approach is a fundamental\\\\naspect of our SHEIN culture - with employees\\\\nencouraged to identify opportunities for\\\\nimprovement, conduct research and propose\\\\nsolutions. For example, any new product we offer\\\\nonline starts with a small test batch so that we can\\\\nassess how it resonates with our customers before\\\\nwe scale up orders to meet demand. Similarly,\\\\nwe apply this approach to how we accelerate\\\\nsustainable innovation, testing new materials and\\\\nbusiness models before iterating to scale them\\\\nsuccessfully within our operations.\\\\n\\\\n\\\\n## Innovation at SHEIN\\\\n\\\\nWe are committed to driving transformation across\\\\nthe garment-manufacturing industry through\\\\nresearch and development (R&D), establishment\\\\nof best practices and information-sharing. The\\\\nCenter of Innovation for Garment Manufacturing\\\\n(CIGM), established in 2022, conducts R&D\\\\nin waste-saving and efficiency-optimizing\\\\ntechnologies that can be scaled across SHEIN\\'s\\\\nsupply chain. It conducts knowledge-sharing and\\\\ntraining for our suppliers on the latest technologies\\\\n\\\\nand techniques, including on product quality,\\\\norganizational management and workplace\\\\nexperience, to optimize efficiencies. It also offers\\\\nconsultancy services on factory site selection,\\\\nfacility design and layout.\\\\n\\\\nIn 2023, the CIGM successfully filed 10 patents\\\\nfor new technology/tools focusing on complex\\\\ncraftsmanship methods and special fabrics, each\\\\nachieving garment-production efficiency gains of\\\\nover 40%. The CIGM has also developed over 100\\\\nsewing and garment-making tools for our suppliers.\\\\nTargeting specialty and complex garment and\\\\nfabric types has helped to improve product quality,\\\\nthereby reducing customer return rates. In 2023,\\\\nthe CIGM carried out over 380 training sessions\\\\nfor over 5,000 suppliers across our supply chain.\\\\nThe CIGM also collaborates with universities\\\\nand academic institutions to launch joint training\\\\nprograms, including practical training and seminars\\\\non sewing techniques and other aspects of\\\\ngarment manufacturing, and to offer scholarships\\\\nto help develop a pipeline of young talent for local\\\\ngarment-manufacturing industries.\\\\n\\\\n\\\\n\\\\n\\\\n\\\\nThis hanging line conveyor system was developed by\\\\nSHEIN\\'s in-house team to move clothes and items\\\\nacross production floors handling multi-category orders.\\\\nThe system includes data-collection and processing\\\\ncapabilities and can be fitted with either clothes hangers\\\\nor baskets to improve production efficiency.\\\\n\\\\n\\\\n\\\\n\\\\n\\\\nInnovations developed by SHEIN, like these glove\\\\npattern templates, have helped create more consistency\\\\nin production, and a reduction in suppliers\\' equipment\\\\npurchasing costs.\\\\n\\\\n\\\\n\\\\n\\\\n\"]}, {\\'Chunks\\': [\"\\\\n\\\\n\\\\n## INTRODUCTION PEOPLE\\\\n\\\\nPLANET: COLLECTIVE\\\\nRESILIENCE\\\\n\\\\nDecarbonize Our\\\\nSupply Chain\\\\n\\\\nSource Responsible Materials\\\\n\\\\nProtect Biodiversity\\\\nand Animal Welfare\\\\n\\\\nPROCESS\\\\nGOVERNANCE\\\\nANNEX\\\\n\\\\n\\\\n\\\\n\\\\n### Reducing SHEIN\\'s Direct Impact\\\\n\\\\nOur Scope 1 and 2 emissions account for only a\\\\nsmall proportion of total emissions and are mainly\\\\nlinked to electricity usage. We are implementing\\\\nprograms to better manage and reduce the\\\\nelectricity we use in our offices and warehouses,\\\\nas well as expand our use of renewable energy.\\\\nIn 2023, SHEIN used a total of 165,206 MWh of\\\\nelectricity across the operations that we directly\\\\nmanage globally.23 Seventy-two percent of this\\\\nwas from renewable sources, up from 68% in\\\\n2022. We\\'re on track to achieving our target of\\\\nhaving 100% of the electricity used in operations\\\\ndirectly managed by SHEIN from renewable\\\\nsources by 2030.\\\\n\\\\n\\\\n#### Key Initiatives in 2023:\\\\n\\\\n. We installed 43.6MW of capacity in seven of our\\\\nwarehouses, which generated 3,953 MWh of\\\\nelectricity, reducing 2,255 metric tons of CO2e.\\\\n\\\\n. We carried out energy-efficiency improvement\\\\nprojects in three representative SHEIN facilities,\\\\nnamely a warehouse in Zhaoqing, our SHEIN\\\\noffice in Guangzhou and the SHEIN CIGM in\\\\nGuangzhou, which helped us develop energy-\\\\nefficiency recommendations for such facilities.\\\\n\\\\n. We are switching from procuring\\\\nheptafluoropropane fire extinguishers to\\\\nIG-541 or dry powder extinguishers, with 99%\\\\nlower emissions, for all our data centers.\\\\n\\\\n\\\\n### Reducing SHEIN\\'s Indirect Impact\\\\n\\\\nWe acknowledge that, with over 99% of our\\\\nemissions coming from Scope 3, we must collaborate\\\\nwith our suppliers and other value chain partners to\\\\naddress these areas. Significant work remains, but we\\\\nhave launched several programs in 2023 to support\\\\nour suppliers in their decarbonization journeys.\\\\n\\\\nIn partnership with Apparel Impact Institute (Aii),\\\\nwe initiated Clean by Design (CbD) projects, which\\\\nfocus on improving process efficiencies to reduce\\\\nenergy, water and chemical usage and waste\\\\ngenerated in the manufacturing process. These\\\\nprojects, implemented across 28 supplier sites,\\\\ncollectively introduced 217 improvement actions,\\\\nsaving 14,046 MWh of electricity and nearly 46,000\\\\nmetric tons of CO2e per year.\\\\n\\\\nWe also promote the adoption of rooftop\\\\nsolar energy in our supply chain, establishing\\\\npartnerships to design customized solarization\\\\nplans for our suppliers. These are complemented\\\\nby cash incentives to encourage adoption by\\\\nour suppliers. We also reached out to over 300\\\\nsuppliers to share about rooftop solar alternatives.\\\\nAs of end 2023, 31 suppliers have installed\\\\nand 10 suppliers are in the process of installing\\\\nphotovoltaic solar panels for their factories, totaling\\\\n51.6MW of solar capacity. These solar panels\\\\ngenerated 21,290 MWh in electricity, reducing\\\\nCO2e by 12,140 metric tons.24\\\\n\\\\nIn 2023, we began exploring initiatives to reduce\\\\nemissions in our logistics and transportation\\\\noperations. For example, in Europe, we introduced\\\\nlower-impact delivery options, offering self-pickup\\\\noptions for our customers so that they may collect\\\\ntheir purchases from a pickup point instead of\\\\nopting for doorstep delivery, which is estimated to\\\\nhave saved 19,468 metric tons of CO2e across\\\\neight countries. By working with logistics partners\\\\nwho use electric cars and hybrid or natural gas\\\\nvans, we saved 54,614 metric tons of CO2e across\\\\nsix countries in Europe.\\\\n\\\\nWe are also building partnerships with suppliers\\\\nin Brazil and Türkiye to bring production closer to\\\\nkey consumer regions, and expanding the number\\\\nof warehousing facilities globally in countries\\\\nsuch as the USA and Poland. This nearshoring\\\\nand onshoring strategy will help us to reduce\\\\ndelivery times, shipping costs and our Scope 3\\\\ncarbon footprint. In nearshoring inventory, we\\\\nmanaged to shift more air transportation to sea\\\\nand ground modes for routes to Europe and the\\\\nUSA, saving us 49,578 metric tons of CO2e. In\\\\nlocalizing procurement, we significantly reduced air\\\\ntransportation distance, resulting in an emissions\\\\nreduction of 314,805 metric tons of CO2e.25\\\\n\\\\n23\\\\nThis includes specific facilities where we were unable to track electricity consumption, for which the electricity consumption of\\\\nother similar facilities was used as proxy.\\\\n\\\\n24 We use a shifted reporting year to account for solar energy use by our supply chain, covering the period from September 2022 to\\\\nAugust 2023. Our GHG emissions accounting and reporting are aligned with the GHG Protocol.\\\\n\\\\n25 The potential emission reductions from the initiatives to reduce emissions in our logistics and transportation operations were\\\\nestimated working with the Carbon Trust, based on available information and assumptions.\\\\n\\\\n\\\\n\\\\n\\\\n\"]}, {\\'Chunks\\': [\"SHEIN\\\\n\\\\n\\\\n## INTRODUCTION\\\\n\\\\nA Note From\\\\nOur CEO\\\\nAbout Us\\\\n\\\\nMateriality: Identifying\\\\nPriority Areas\\\\nOur Approach: evoluSHEIN\\\\nTargets and\\\\nAspirations\\\\n2023 ESG\\\\nHighlights\\\\n\\\\nPEOPLE\\\\nPLANET\\\\nPROCESS\\\\nGOVERNANCE\\\\nANNEX\\\\n\\\\n\\\\n## On-Demand Business Model\\\\n\\\\nWe analyze demand signals from the way users\\\\nengage with our app or website, and use these\\\\ninsights to make the products we know our\\\\ncustomers want, when they want them.\\\\n\\\\nWe continuously monitor and track the gap\\\\nbetween existing stock and projected customers\\'\\\\nneeds to understand where and when we need\\\\nto procure additional units. This digitalized\\\\nprocess ensures that we obtain the appropriate\\\\nnumber and types of products from our suppliers\\\\nbased on our customers\\' orders.\\\\n\\\\nBy adopting an on-demand business model,\\\\nwe strive to offer diverse products at accessible\\\\nprices, while also seeking to reduce inventory\\\\nwaste left over from unsold products in SHEIN\\'s\\\\nwarehouses.\\\\n\\\\nFor more details on our business model, please\\\\nvisit sheingroup.com.\\\\n\\\\n\\\\n## Elevating Customer Experience, Empowering Businesses\\\\n\\\\nIn May 2023, we announced the launch of our\\\\nglobal integrated marketplace, hosting local\\\\nand international third-party sellers on our site\\\\nalongside SHEIN brands. This new marketplace\\\\nis set to enhance the customer experience,\\\\nproviding access to an increased variety of\\\\nproducts and improved logistics, with shorter\\\\ndelivery times and lower costs.\\\\n\\\\nOur integrated platform also empowers small\\\\nand independent businesses to grow, connecting\\\\nthem with our extensive global customer base and\\\\nequipping them with the tools to succeed. Sellers\\\\ncan leverage SHEIN\\'s social media and marketing\\\\nexpertise, gain access to real-time market\\\\ninsights and utilize SHEIN\\'s global logistics and\\\\ndistribution ecosystem for order fulfillment. They\\\\ncan also participate in our AcceleraSHEIN seller-\\\\nempowerment program, which offers weekly\\\\ntraining sessions and workshops conducted by\\\\nprofessional consultants and unlocks incentives\\\\nlike product showcases and traffic boosts.\\\\n\\\\n\\\\n\\\\n\\\\n\\\\n\"]}, {\\'Chunks\\': [\\'SHEIN\\\\n\\\\n\\\\n## INTRODUCTION\\\\n\\\\nPEOPLE: EQUITABLE\\\\nEMPOWERMENT\\\\n\\\\nEnable Self-Expression for All\\\\nProvide Access to Talent\\\\nImprove Lives in Communities\\\\n\\\\nPLANET\\\\nPROCESS\\\\nGOVERNANCE\\\\nANNEX\\\\n\\\\n\\\\n\\\\n\\\\n# Empowering Communities We Reach\\\\n\\\\nAs SHEIN grows, we believe in\\\\nhelping our communities and\\\\necosystem partners grow with us.\\\\n\\\\nAt SHEIN, we understand our responsibility\\\\nto drive positive change. We are committed to\\\\nempowering the communities we reach, and\\\\nare proud to advocate for, and support, causes\\\\nwe care about. In 2023, we announced that we\\\\nhave allocated a total of up to US$155 million\\\\nover the next five years towards initiatives that\\\\nsupport the \"Equitable Empowerment\" pillar of\\\\nour evoluSHEIN roadmap.\\\\n\\\\nIn line with our mission to make the beauty\\\\nof fashion accessible to all, our initiatives\\\\nunder this pillar focus on uplifting our supplier\\\\ncommunity, empowering aspiring designers,\\\\nchampioning women, promoting gender equality,\\\\nsupporting the development of young people\\\\nand poverty alleviation.\\\\n\\\\n\\\\n## Supplier Community Empowerment Program\\\\n\\\\nOur suppliers are valuable partners in the SHEIN\\\\necosystem. Through our SCEP, we have been\\\\nimplementing long-term initiatives to empower our\\\\npartners in factory enhancement, accommodation\\\\nand lifestyle facilities upgrades, technology innovation,\\\\ntraining support and community engagement.\\\\n\\\\nIn April 2023, we announced plans to allocate\\\\nup to US$70 million for programs under the\\\\nSCEP over the next five years.\\\\n\\\\n\\\\n## Facility Enhancements\\\\n\\\\nSince launching the SCEP, SHEIN set out to\\\\nupgrade and expand 100 factories by 2023.\\\\nIn 2023, SHEIN exceeded this target; we\\\\nmodernized 132 supplier factories in our supply\\\\nchain with facility enhancements, upgrades and\\\\nexpansion, transforming over 407,000 square\\\\nmeters of workspace.\\\\n\\\\nInvestments have also been made in services\\\\nthat benefit communities within the supply\\\\nchain ecosystem. In 2023, SHEIN completed\\\\nthe upgrading of canteens, dormitories and\\\\nmultipurpose recreational spaces, amounting to\\\\n10,486 square meters across 23 supplier facilities.\\\\n\\\\n\\\\n## Training and Upskilling\\\\n\\\\nIn 2023, SHEIN conducted 620 training sessions\\\\nfor workers in our supply chain, covering\\\\nsubjects such as business and operational\\\\nprocesses, the latest technologies in garment\\\\nproduction, certification courses focusing on\\\\nquality inspections and assurance, and national\\\\nvocational skill level certifications.\\\\n\\\\n\\\\n\\\\n\\\\n\\\\nInvesting in improvements to lifestyle facilities, such as\\\\nthis canteen, is part of SHEIN\\\\\\'s approach to uplifting\\\\nworker wellbeing.\\\\n\\\\n\\\\n\\\\n\\\\n\\']}])', call_id='call_kTi19oAWTKSHfMA45cWM55fm')]\n",
      "Transitioning To:  revise_answer_agent\n",
      "Intermediate Response: ### How is Shein Innovating?\n",
      "\n",
      "Shein is actively innovating across multiple dimensions of its business, focusing on technology, sustainability, and operational efficiency. Here are some key areas of innovation:\n",
      "\n",
      "#### 1. **Test-and-Scale Approach**\n",
      "Shein employs a test-and-scale approach, which is integral to its culture. This involves:\n",
      "- **Small Batch Testing**: New products are initially launched in small batches to gauge customer response before scaling up production.\n",
      "- **Sustainable Innovation**: New materials and business models are tested for sustainability before being scaled within operations.\n",
      "\n",
      "#### 2. **Center of Innovation for Garment Manufacturing (CIGM)**\n",
      "Established in 2022, the CIGM focuses on:\n",
      "- **R&D in Waste-Saving and Efficiency-Optimizing Technologies**: These technologies are designed to be scalable across Shein's supply chain.\n",
      "- **Patents and Tools**: In 2023, the CIGM filed 10 patents for new technologies and developed over 100 sewing and garment-making tools, achieving over 40% efficiency gains in garment production.\n",
      "- **Training and Knowledge Sharing**: The CIGM conducted over 380 training sessions for more than 5,000 suppliers and collaborates with universities for joint training programs.\n",
      "\n",
      "#### 3. **On-Demand Business Model**\n",
      "Shein's on-demand business model leverages data analytics to:\n",
      "- **Analyze Demand Signals**: Insights from user engagement on their app or website help in making products that customers want, reducing inventory waste.\n",
      "- **Digitalized Procurement**: Ensures the appropriate number and types of products are procured based on customer orders, minimizing unsold inventory.\n",
      "\n",
      "#### 4. **Global Integrated Marketplace**\n",
      "Launched in May 2023, this marketplace:\n",
      "- **Enhances Customer Experience**: By hosting local and international third-party sellers alongside Shein brands, it offers a wider variety of products and improved logistics.\n",
      "- **Empowers Small Businesses**: Provides tools for small and independent businesses to grow, including access to Shein's logistics, marketing expertise, and real-time market insights.\n",
      "\n",
      "#### 5. **Sustainability Initiatives**\n",
      "Shein is committed to reducing its environmental impact through:\n",
      "- **Renewable Energy**: In 2023, 72% of the electricity used in operations was from renewable sources, with a target of 100% by 2030.\n",
      "- **Decarbonization Programs**: Initiatives like Clean by Design (CbD) projects and promoting rooftop solar energy among suppliers have significantly reduced CO2 emissions.\n",
      "- **Logistics Optimization**: Nearshoring and onshoring strategies, along with lower-impact delivery options, have reduced transportation-related emissions.\n",
      "\n",
      "#### 6. **Supplier Community Empowerment Program (SCEP)**\n",
      "Shein invests in its supplier community through:\n",
      "- **Facility Enhancements**: Upgraded and expanded 132 supplier factories in 2023.\n",
      "- **Training and Upskilling**: Conducted 620 training sessions covering various aspects of garment production and business processes.\n",
      "\n",
      "### Conclusion\n",
      "Shein's innovation strategy is multifaceted, focusing on technological advancements, sustainable practices, and operational efficiencies. These efforts not only enhance their business model but also contribute to broader industry transformation and environmental sustainability. Investors should consider these innovative practices as indicators of Shein's commitment to growth and sustainability.\n",
      "\n",
      "**TERMINATE**\n",
      "Answer: ### How is Shein Innovating?\n",
      "\n",
      "Shein is actively innovating across multiple dimensions of its business, focusing on technology, sustainability, and operational efficiency. Here are some key areas of innovation:\n",
      "\n",
      "#### 1. **Test-and-Scale Approach**\n",
      "Shein employs a test-and-scale approach, which is integral to its culture. This involves:\n",
      "- **Small Batch Testing**: New products are initially launched in small batches to gauge customer response before scaling up production.\n",
      "- **Sustainable Innovation**: New materials and business models are tested for sustainability before being scaled within operations.\n",
      "\n",
      "#### 2. **Center of Innovation for Garment Manufacturing (CIGM)**\n",
      "Established in 2022, the CIGM focuses on:\n",
      "- **R&D in Waste-Saving and Efficiency-Optimizing Technologies**: These technologies are designed to be scalable across Shein's supply chain.\n",
      "- **Patents and Tools**: In 2023, the CIGM filed 10 patents for new technologies and developed over 100 sewing and garment-making tools, achieving over 40% efficiency gains in garment production.\n",
      "- **Training and Knowledge Sharing**: The CIGM conducted over 380 training sessions for more than 5,000 suppliers and collaborates with universities for joint training programs.\n",
      "\n",
      "#### 3. **On-Demand Business Model**\n",
      "Shein's on-demand business model leverages data analytics to:\n",
      "- **Analyze Demand Signals**: Insights from user engagement on their app or website help in making products that customers want, reducing inventory waste.\n",
      "- **Digitalized Procurement**: Ensures the appropriate number and types of products are procured based on customer orders, minimizing unsold inventory.\n",
      "\n",
      "#### 4. **Global Integrated Marketplace**\n",
      "Launched in May 2023, this marketplace:\n",
      "- **Enhances Customer Experience**: By hosting local and international third-party sellers alongside Shein brands, it offers a wider variety of products and improved logistics.\n",
      "- **Empowers Small Businesses**: Provides tools for small and independent businesses to grow, including access to Shein's logistics, marketing expertise, and real-time market insights.\n",
      "\n",
      "#### 5. **Sustainability Initiatives**\n",
      "Shein is committed to reducing its environmental impact through:\n",
      "- **Renewable Energy**: In 2023, 72% of the electricity used in operations was from renewable sources, with a target of 100% by 2030.\n",
      "- **Decarbonization Programs**: Initiatives like Clean by Design (CbD) projects and promoting rooftop solar energy among suppliers have significantly reduced CO2 emissions.\n",
      "- **Logistics Optimization**: Nearshoring and onshoring strategies, along with lower-impact delivery options, have reduced transportation-related emissions.\n",
      "\n",
      "#### 6. **Supplier Community Empowerment Program (SCEP)**\n",
      "Shein invests in its supplier community through:\n",
      "- **Facility Enhancements**: Upgraded and expanded 132 supplier factories in 2023.\n",
      "- **Training and Upskilling**: Conducted 620 training sessions covering various aspects of garment production and business processes.\n",
      "\n",
      "### Conclusion\n",
      "Shein's innovation strategy is multifaceted, focusing on technological advancements, sustainable practices, and operational efficiencies. These efforts not only enhance their business model but also contribute to broader industry transformation and environmental sustainability. Investors should consider these innovative practices as indicators of Shein's commitment to growth and sustainability.\n",
      "\n",
      "**TERMINATE**\n"
     ]
    }
   ],
   "source": [
    "async for message in RAT_GROUP_CHAT.run_stream(task=USER_QUESTION):\n",
    "    if isinstance(message, ToolCallRequestEvent):\n",
    "        print(f\"Search Request: {message.content}\")\n",
    "    elif isinstance(message, ToolCallExecutionEvent):\n",
    "        print(f\"Search Results: {message.content}\")\n",
    "    elif isinstance(message, TextMessage):\n",
    "        print(f\"Intermediate Response: {message.content}\")\n",
    "    elif isinstance(message, TaskResult):\n",
    "        rat_final_response = message.messages[-1].content\n",
    "        print(f\"Answer: {rat_final_response}\")"
   ]
  },
  {
   "cell_type": "markdown",
   "metadata": {},
   "source": [
    "## RAT Response"
   ]
  },
  {
   "cell_type": "code",
   "execution_count": 6,
   "metadata": {},
   "outputs": [
    {
     "data": {
      "text/markdown": [
       "### How is Shein Innovating?\n",
       "\n",
       "Shein is actively innovating across multiple dimensions of its business, focusing on technology, sustainability, and operational efficiency. Here are some key areas of innovation:\n",
       "\n",
       "#### 1. **Test-and-Scale Approach**\n",
       "Shein employs a test-and-scale approach, which is integral to its culture. This involves:\n",
       "- **Small Batch Testing**: New products are initially launched in small batches to gauge customer response before scaling up production.\n",
       "- **Sustainable Innovation**: New materials and business models are tested for sustainability before being scaled within operations.\n",
       "\n",
       "#### 2. **Center of Innovation for Garment Manufacturing (CIGM)**\n",
       "Established in 2022, the CIGM focuses on:\n",
       "- **R&D in Waste-Saving and Efficiency-Optimizing Technologies**: These technologies are designed to be scalable across Shein's supply chain.\n",
       "- **Patents and Tools**: In 2023, the CIGM filed 10 patents for new technologies and developed over 100 sewing and garment-making tools, achieving over 40% efficiency gains in garment production.\n",
       "- **Training and Knowledge Sharing**: The CIGM conducted over 380 training sessions for more than 5,000 suppliers and collaborates with universities for joint training programs.\n",
       "\n",
       "#### 3. **On-Demand Business Model**\n",
       "Shein's on-demand business model leverages data analytics to:\n",
       "- **Analyze Demand Signals**: Insights from user engagement on their app or website help in making products that customers want, reducing inventory waste.\n",
       "- **Digitalized Procurement**: Ensures the appropriate number and types of products are procured based on customer orders, minimizing unsold inventory.\n",
       "\n",
       "#### 4. **Global Integrated Marketplace**\n",
       "Launched in May 2023, this marketplace:\n",
       "- **Enhances Customer Experience**: By hosting local and international third-party sellers alongside Shein brands, it offers a wider variety of products and improved logistics.\n",
       "- **Empowers Small Businesses**: Provides tools for small and independent businesses to grow, including access to Shein's logistics, marketing expertise, and real-time market insights.\n",
       "\n",
       "#### 5. **Sustainability Initiatives**\n",
       "Shein is committed to reducing its environmental impact through:\n",
       "- **Renewable Energy**: In 2023, 72% of the electricity used in operations was from renewable sources, with a target of 100% by 2030.\n",
       "- **Decarbonization Programs**: Initiatives like Clean by Design (CbD) projects and promoting rooftop solar energy among suppliers have significantly reduced CO2 emissions.\n",
       "- **Logistics Optimization**: Nearshoring and onshoring strategies, along with lower-impact delivery options, have reduced transportation-related emissions.\n",
       "\n",
       "#### 6. **Supplier Community Empowerment Program (SCEP)**\n",
       "Shein invests in its supplier community through:\n",
       "- **Facility Enhancements**: Upgraded and expanded 132 supplier factories in 2023.\n",
       "- **Training and Upskilling**: Conducted 620 training sessions covering various aspects of garment production and business processes.\n",
       "\n",
       "### Conclusion\n",
       "Shein's innovation strategy is multifaceted, focusing on technological advancements, sustainable practices, and operational efficiencies. These efforts not only enhance their business model but also contribute to broader industry transformation and environmental sustainability. Investors should consider these innovative practices as indicators of Shein's commitment to growth and sustainability.\n",
       "\n",
       "**TERMINATE**"
      ]
     },
     "metadata": {},
     "output_type": "display_data"
    }
   ],
   "source": [
    "display_markdown(rat_final_response, raw=True)"
   ]
  },
  {
   "cell_type": "code",
   "execution_count": null,
   "metadata": {},
   "outputs": [],
   "source": []
  }
 ],
 "metadata": {
  "kernelspec": {
   "display_name": ".venv",
   "language": "python",
   "name": "python3"
  },
  "language_info": {
   "codemirror_mode": {
    "name": "ipython",
    "version": 3
   },
   "file_extension": ".py",
   "mimetype": "text/x-python",
   "name": "python",
   "nbconvert_exporter": "python",
   "pygments_lexer": "ipython3",
   "version": "3.11.9"
  }
 },
 "nbformat": 4,
 "nbformat_minor": 2
}
